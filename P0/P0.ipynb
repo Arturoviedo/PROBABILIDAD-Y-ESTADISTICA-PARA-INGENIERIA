{
  "nbformat": 4,
  "nbformat_minor": 0,
  "metadata": {
    "colab": {
      "name": "Untitled2.ipynb",
      "provenance": [],
      "authorship_tag": "ABX9TyP1C4+mAT82j7Vo4smOVd7T",
      "include_colab_link": true
    },
    "kernelspec": {
      "name": "python3",
      "display_name": "Python 3"
    }
  },
  "cells": [
    {
      "cell_type": "markdown",
      "metadata": {
        "id": "view-in-github",
        "colab_type": "text"
      },
      "source": [
        "<a href=\"https://colab.research.google.com/github/Arturoviedo/PROBABILIDAD-Y-ESTADISTICA-PARA-INGENIERIA/blob/main/P0.ipynb\" target=\"_parent\"><img src=\"https://colab.research.google.com/assets/colab-badge.svg\" alt=\"Open In Colab\"/></a>"
      ]
    },
    {
      "cell_type": "markdown",
      "metadata": {
        "id": "stNeNonAAtOy"
      },
      "source": [
        "#Práctica 0\r\n",
        "\r\n",
        "##Probabilidad y Estadistica para la Ingeniería\r\n",
        "\r\n",
        "En esta práctica introductioria aprenderemos a usar Python y Jupyter Notebook a través de Google Collab\r\n",
        "\r\n",
        "\r\n"
      ]
    },
    {
      "cell_type": "code",
      "metadata": {
        "colab": {
          "base_uri": "https://localhost:8080/"
        },
        "id": "aMLmljBFAmdU",
        "outputId": "561ecd0a-0f8e-47ac-f6de-e6edc95e0a7d"
      },
      "source": [
        "a = (0,1,2,3,4,5,6,7,8,9)\r\n",
        "prom_a= sum(a)/len(a)\r\n",
        "print(prom_a)"
      ],
      "execution_count": 2,
      "outputs": [
        {
          "output_type": "stream",
          "text": [
            "4.5\n"
          ],
          "name": "stdout"
        }
      ]
    },
    {
      "cell_type": "markdown",
      "metadata": {
        "id": "jzLsrIaVBxAR"
      },
      "source": [
        "Para usar R en Google Collab se debe correr el comando:\r\n",
        "\r\n",
        "\r\n",
        "\r\n",
        "```python\r\n",
        "%load_ext rpy2.ipython\r\n",
        "```\r\n",
        "\r\n"
      ]
    },
    {
      "cell_type": "code",
      "metadata": {
        "colab": {
          "base_uri": "https://localhost:8080/"
        },
        "id": "WxU-HhLCBFnr",
        "outputId": "14444eff-df32-4844-8685-2965b24c83e5"
      },
      "source": [
        "%load_ext rpy2.ipython"
      ],
      "execution_count": 3,
      "outputs": [
        {
          "output_type": "stream",
          "text": [
            "/usr/local/lib/python3.7/dist-packages/rpy2/robjects/pandas2ri.py:14: FutureWarning: pandas.core.index is deprecated and will be removed in a future version.  The public classes are available in the top-level namespace.\n",
            "  from pandas.core.index import Index as PandasIndex\n",
            "/usr/local/lib/python3.7/dist-packages/rpy2/robjects/pandas2ri.py:34: UserWarning: pandas >= 1.0 is not supported.\n",
            "  warnings.warn('pandas >= 1.0 is not supported.')\n"
          ],
          "name": "stderr"
        }
      ]
    },
    {
      "cell_type": "markdown",
      "metadata": {
        "id": "h_FZny3OCJUU"
      },
      "source": [
        "Cada que usemos R debemos poner %%R al inicio de cada celda de código\r\n"
      ]
    },
    {
      "cell_type": "code",
      "metadata": {
        "colab": {
          "base_uri": "https://localhost:8080/"
        },
        "id": "uHFQSe8xCIw5",
        "outputId": "46e1d4b6-4f2a-4135-dd13-c64b43f8e617"
      },
      "source": [
        "%%R\r\n",
        "x <- c(0,1,2,3,4,5,6,7,8,9)\r\n",
        "prom_a <- sum(x)/length(x)\r\n",
        "prom_a"
      ],
      "execution_count": 8,
      "outputs": [
        {
          "output_type": "stream",
          "text": [
            "[1] 4.5\n"
          ],
          "name": "stdout"
        }
      ]
    },
    {
      "cell_type": "code",
      "metadata": {
        "id": "f4fWg-EFCm5u"
      },
      "source": [
        ""
      ],
      "execution_count": null,
      "outputs": []
    }
  ]
}